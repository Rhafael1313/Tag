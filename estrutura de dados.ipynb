{
  "nbformat": 4,
  "nbformat_minor": 0,
  "metadata": {
    "colab": {
      "provenance": [],
      "collapsed_sections": [
        "W5JzcjRPvPNK"
      ],
      "authorship_tag": "ABX9TyO4keCZ1dIBL+wTr9U+Vxx0",
      "include_colab_link": true
    },
    "kernelspec": {
      "name": "python3",
      "display_name": "Python 3"
    },
    "language_info": {
      "name": "python"
    }
  },
  "cells": [
    {
      "cell_type": "markdown",
      "metadata": {
        "id": "view-in-github",
        "colab_type": "text"
      },
      "source": [
        "<a href=\"https://colab.research.google.com/github/Rhafael1313/Tag/blob/main/estrutura%20de%20dados.ipynb\" target=\"_parent\"><img src=\"https://colab.research.google.com/assets/colab-badge.svg\" alt=\"Open In Colab\"/></a>"
      ]
    },
    {
      "cell_type": "markdown",
      "source": [
        "# Estrutura de Dados (Vetores não ordenados)"
      ],
      "metadata": {
        "id": "87Jado6wn5_4"
      }
    },
    {
      "cell_type": "markdown",
      "source": [
        "São usados para gerencia lista de valores, assim podemos ter por exemplo: lista de jogadores, pessoas, listadas de equipamentos e etc.\n",
        "\n",
        "Os operadores são inserir, buscar e deletar. Vale ressaltar que toda estrutura de dados pode tem que ter um valor de inicialização.\n",
        "\n",
        "# **INSERIR:**\n",
        "\n",
        "*   Único passo (inserir na primeira célula vaga do vetor);\n",
        "*   O algoritmo já conhece essa localização porque ele já sabe quantos itens já estão no vetor;\n",
        "*   O novo item é simplesmente inserido no próximo espaço disponível;\n",
        "*   O \"Big O\" constante O(1);\n",
        "\n",
        "# **BUSCAR**:\n",
        "\n",
        "*   Percorrer cada posição do vetor (Usar um \"for\" com um \"if\" para ver se o elemento está no vetor);\n",
        "*   O melhor caso é o primeiro item do vetor\n",
        "*   O pior caso é o ultimo item do vetor ou se ele não existe;\n",
        "*   Em média, metade dos itens devem ser examinados (N/2);\n",
        "*   O \"Big O\" é linear O(n);\n",
        "\n",
        "# **EXCLUIR**:\n",
        "\n",
        "Obs: Numa exclusão não é apagado o valor literalmente (Em algumas linguagem liguagem você pode definir como vazio), o que se faz é sobreescrever o valor onde estava posicionado o valor antigo;\n",
        "\n",
        "*   Pesquisar uma média de N/2 elementos (pesquisa linear) - pior caso é N;\n",
        "*   Mover os elementos restantes (N/2 passos) - pior caso é N;\n",
        "*   \"Big O\" - O(2n) = O(n);\n",
        "\n",
        "# **Duplicata**:\n",
        "\n",
        "*   Deve-se decidir se itens com chaves duplicadas serão permitidos\n",
        "*   Exemplo de um arquivo funcionários - Se a chave for o número de registro ou se a chave for o sobrenome;\n",
        "*   Pesquisa: mesmo se encontrar o valor, o algoritmo terá que continuar procurando até a última célula (N*passos);\n",
        "*   Inserção: verificar cada item antes de fazer uma inserção (N passos) - Caso não seja permitido duplicada;\n",
        "*   Exclusão do primeiro item: N/2 comparação e N/2 movimentos;\n",
        "\n",
        "\n",
        "\n",
        "\n",
        "\n"
      ],
      "metadata": {
        "id": "W5JzcjRPvPNK"
      }
    },
    {
      "cell_type": "code",
      "source": [
        "# Para o exemplo será o numpy para criar os modelos do vetor\n",
        "import numpy as np"
      ],
      "metadata": {
        "id": "pgA3gkfRvO0C"
      },
      "execution_count": null,
      "outputs": []
    },
    {
      "cell_type": "code",
      "source": [
        "# O nome aqui é exemplativo, pode ser qualquer coisa que tenha haver com a estrutura\n",
        "class VetorNaoOrdenado:\n",
        "  # Nesse exemplo o vetor é fixo \"capacidade é tamanho do vetor\"\n",
        "  def __init__(self, capacidade: int):\n",
        "    self.capacidade = capacidade\n",
        "    self.ultima_posicao = -1\n",
        "    self.valores = np.empty(self.capacidade, dtype=int)\n",
        "\n",
        "  # O(n)\n",
        "  def imprime(self):\n",
        "    if self.ultima_posicao == -1:\n",
        "      print(\"Vetor vazio\")\n",
        "    else:\n",
        "      for i in range(self.ultima_posicao + 1):\n",
        "        print(i, '-', self.valores[i])\n",
        "\n",
        "  # O(1) - O(2) constante\n",
        "  def inserir(self, valor: int):\n",
        "    if self.ultima_posicao == self.capacidade - 1:\n",
        "      print('Capacidade alcançada')\n",
        "    else:\n",
        "      self.ultima_posicao += 1\n",
        "      self.valores[self.ultima_posicao] = valor\n",
        "\n",
        "  # O(n) - linear\n",
        "  def pesquisa(self, valor: int):\n",
        "    for i in range(self.ultima_posicao + 1):\n",
        "      if valor == self.valores[i]:\n",
        "        return i\n",
        "    return -1\n",
        "\n",
        "  #O(n)\n",
        "  def excluir(self, valor: int):\n",
        "    posicao = self.pesquisa(valor)\n",
        "    if posicao == -1:\n",
        "      return -1\n",
        "    else:\n",
        "      for i in range(posicao, self.ultima_posicao):\n",
        "        self.valores[i] = self.valores[i + 1]\n",
        "\n",
        "      self.ultima_posicao -= 1\n",
        "\n"
      ],
      "metadata": {
        "id": "VCPZhPMLVL7A"
      },
      "execution_count": null,
      "outputs": []
    },
    {
      "cell_type": "code",
      "source": [
        "vetor = VetorNaoOrdenado(5)"
      ],
      "metadata": {
        "id": "2SH_JMMIXCiL"
      },
      "execution_count": null,
      "outputs": []
    },
    {
      "cell_type": "code",
      "source": [
        "vetor.imprime()"
      ],
      "metadata": {
        "colab": {
          "base_uri": "https://localhost:8080/"
        },
        "id": "9qB4OjmXXIde",
        "outputId": "b5fb2ffe-c9a0-4c8f-bbb4-e44b5d998fbb"
      },
      "execution_count": null,
      "outputs": [
        {
          "output_type": "stream",
          "name": "stdout",
          "text": [
            "Vetor vazio\n"
          ]
        }
      ]
    },
    {
      "cell_type": "code",
      "source": [
        "vetor.inserir(2)"
      ],
      "metadata": {
        "id": "GkZho3J2YaHS"
      },
      "execution_count": null,
      "outputs": []
    },
    {
      "cell_type": "code",
      "source": [
        "vetor.imprime()"
      ],
      "metadata": {
        "colab": {
          "base_uri": "https://localhost:8080/"
        },
        "id": "Qysygp6iY32_",
        "outputId": "b9e42fa4-896a-4f52-9b48-f1b46f85d847"
      },
      "execution_count": null,
      "outputs": [
        {
          "output_type": "stream",
          "name": "stdout",
          "text": [
            "0 - 2\n"
          ]
        }
      ]
    },
    {
      "cell_type": "code",
      "source": [
        "vetor.inserir(3)\n",
        "vetor.inserir(5)\n",
        "vetor.inserir(8)\n",
        "vetor.inserir(1)"
      ],
      "metadata": {
        "id": "QHBQNNKBY7Ok"
      },
      "execution_count": null,
      "outputs": []
    },
    {
      "cell_type": "code",
      "source": [
        "vetor.imprime()"
      ],
      "metadata": {
        "colab": {
          "base_uri": "https://localhost:8080/"
        },
        "id": "gL82GLndZGRu",
        "outputId": "81fe24bd-2dc9-4f7c-ced8-c4e2b2561049"
      },
      "execution_count": null,
      "outputs": [
        {
          "output_type": "stream",
          "name": "stdout",
          "text": [
            "0 - 2\n",
            "1 - 3\n",
            "2 - 5\n",
            "3 - 8\n",
            "4 - 1\n"
          ]
        }
      ]
    },
    {
      "cell_type": "code",
      "source": [
        "vetor.inserir(7)"
      ],
      "metadata": {
        "id": "2GPgcoKCZK0Q",
        "colab": {
          "base_uri": "https://localhost:8080/"
        },
        "outputId": "b138ab23-6045-4e43-b810-cb4b2d0d973e"
      },
      "execution_count": null,
      "outputs": [
        {
          "output_type": "stream",
          "name": "stdout",
          "text": [
            "Capacidade alcançada\n"
          ]
        }
      ]
    },
    {
      "cell_type": "code",
      "source": [
        "vetor.pesquisa(6)"
      ],
      "metadata": {
        "colab": {
          "base_uri": "https://localhost:8080/"
        },
        "id": "WfQ8wco5ar2w",
        "outputId": "1657d475-b678-4fb7-ad7f-26151c30b50c"
      },
      "execution_count": null,
      "outputs": [
        {
          "output_type": "execute_result",
          "data": {
            "text/plain": [
              "-1"
            ]
          },
          "metadata": {},
          "execution_count": 10
        }
      ]
    },
    {
      "cell_type": "code",
      "source": [
        "vetor.ultima_posicao"
      ],
      "metadata": {
        "colab": {
          "base_uri": "https://localhost:8080/"
        },
        "id": "1ajxKecjZRVu",
        "outputId": "9fe09899-d852-4de9-d273-99ad14703730"
      },
      "execution_count": null,
      "outputs": [
        {
          "output_type": "execute_result",
          "data": {
            "text/plain": [
              "4"
            ]
          },
          "metadata": {},
          "execution_count": 11
        }
      ]
    },
    {
      "cell_type": "code",
      "source": [
        "vetor.imprime()"
      ],
      "metadata": {
        "colab": {
          "base_uri": "https://localhost:8080/"
        },
        "id": "h113NW_ngI_e",
        "outputId": "14489391-4472-4dba-e6bf-37fa470086f5"
      },
      "execution_count": null,
      "outputs": [
        {
          "output_type": "stream",
          "name": "stdout",
          "text": [
            "0 - 2\n",
            "1 - 3\n",
            "2 - 5\n",
            "3 - 8\n",
            "4 - 1\n"
          ]
        }
      ]
    },
    {
      "cell_type": "code",
      "source": [
        "vetor.excluir(5)"
      ],
      "metadata": {
        "id": "OlBsmAHtgORp"
      },
      "execution_count": null,
      "outputs": []
    },
    {
      "cell_type": "code",
      "source": [
        "vetor.imprime()"
      ],
      "metadata": {
        "colab": {
          "base_uri": "https://localhost:8080/"
        },
        "id": "JlTAKuh0gwsK",
        "outputId": "239a1e30-8b1d-4d71-8bc0-90f5b6079de2"
      },
      "execution_count": null,
      "outputs": [
        {
          "output_type": "stream",
          "name": "stdout",
          "text": [
            "0 - 2\n",
            "1 - 3\n",
            "2 - 8\n",
            "3 - 1\n"
          ]
        }
      ]
    },
    {
      "cell_type": "code",
      "source": [
        "vetor.excluir(7)\n",
        "vetor.imprime()"
      ],
      "metadata": {
        "colab": {
          "base_uri": "https://localhost:8080/"
        },
        "id": "P1YwXlU6itwz",
        "outputId": "7dc9d530-5dee-4a61-b885-e2abff2510dc"
      },
      "execution_count": null,
      "outputs": [
        {
          "output_type": "stream",
          "name": "stdout",
          "text": [
            "0 - 2\n",
            "1 - 3\n",
            "2 - 8\n",
            "3 - 1\n"
          ]
        }
      ]
    },
    {
      "cell_type": "code",
      "source": [
        "vetor.excluir(3)\n",
        "vetor.imprime()"
      ],
      "metadata": {
        "colab": {
          "base_uri": "https://localhost:8080/"
        },
        "id": "xhaLKCsOi3Iy",
        "outputId": "5c915b16-dedb-4eff-8c14-00ad9cbe5847"
      },
      "execution_count": null,
      "outputs": [
        {
          "output_type": "stream",
          "name": "stdout",
          "text": [
            "0 - 2\n",
            "1 - 8\n",
            "2 - 1\n"
          ]
        }
      ]
    },
    {
      "cell_type": "code",
      "source": [
        "vetor.inserir(5)\n",
        "vetor.inserir(1)\n",
        "vetor.imprime()"
      ],
      "metadata": {
        "colab": {
          "base_uri": "https://localhost:8080/"
        },
        "id": "ppc1XiXIi8Nd",
        "outputId": "d7aed4bb-666f-44bf-fcda-d164e727310c"
      },
      "execution_count": null,
      "outputs": [
        {
          "output_type": "stream",
          "name": "stdout",
          "text": [
            "0 - 2\n",
            "1 - 8\n",
            "2 - 1\n",
            "3 - 5\n",
            "4 - 1\n"
          ]
        }
      ]
    },
    {
      "cell_type": "markdown",
      "source": [
        "# Estrutura de Dados (Vetores ordenados)"
      ],
      "metadata": {
        "id": "HyrYVnl2nMy8"
      }
    },
    {
      "cell_type": "markdown",
      "source": [
        "Assim como a estrutura anterior, a finalidade é a mesma, porém com a funcionalidade em deixa em ordem crescente ou decrecente os dados, o que possibilita otimizar algumas operações;\n",
        "\n",
        "*   Os dados estão organizados na ordem ascendente de valores-chaves, ou seja, com o menor valor no índice 0 e cada célula mantendo um valor maior que a célula seguinte;\n",
        "\n",
        "*   A vantangem é a agilidade nos tempos de pesquisa;\n",
        "\n",
        "# **INSERIR:**\n",
        "\n",
        "*   Pesquisa uma média de N/2 elemento (pesquisa linear) - pior caso: N\n",
        "*   Mover os elementos restantes (N/2 passos) - pior caso: N\n",
        "*   Big O - O(2n) = O(n)\n",
        "\n",
        "# **PESQUISA:**\n",
        "\n",
        "*   A pesquisa termina quando o primeiro item maior que o valor de pesquisa é atingido;\n",
        "*   Como o vetor está ordenado, o algoritmo sabe que não há necessidade de procurar mais;\n",
        "*   Pior caso: se o elemento não estiver no vetor ou na última posição;\n",
        "*   Big O - O(n);\n",
        "\n",
        "# **EXCLUIR:**\n",
        "\n",
        "*   Não tem diferença da implementação utilizada no algoritmo usado no vetor não ordenado;\n",
        "*   O algoritmo pode terminar na metade do caminho se não encontrar o item;\n",
        "*   Pesquisar uma média de N/2 elementos (pesquisa linear) - pior caso é N;\n",
        "*   Mover os elementos restantes (N/2 passos) - pior caso é N;\n",
        "*   \"Big O\" - O(2n) = O(n);\n"
      ],
      "metadata": {
        "id": "gfSTgH3upqAj"
      }
    },
    {
      "cell_type": "code",
      "source": [
        "# Para o exemplo será o numpy para criar os modelos do vetor\n",
        "import numpy as np"
      ],
      "metadata": {
        "id": "4y3a_29dnKYj"
      },
      "execution_count": null,
      "outputs": []
    },
    {
      "cell_type": "code",
      "source": [
        "# O nome aqui é exemplativo, pode ser qualquer coisa que tenha haver com a estrutura\n",
        "class VetorOrdenado:\n",
        "  # Nesse exemplo o vetor é fixo \"capacidade é tamanho do vetor\"\n",
        "  def __init__(self, capacidade: int):\n",
        "    self.capacidade = capacidade\n",
        "    self.ultima_posicao = -1\n",
        "    self.valores = np.empty(self.capacidade, dtype=int)\n",
        "\n",
        "  # O(n)\n",
        "  def imprime(self):\n",
        "    if self.ultima_posicao == -1:\n",
        "      print(\"Vetor vazio\")\n",
        "    else:\n",
        "      for i in range(self.ultima_posicao + 1):\n",
        "        print(i, '-', self.valores[i])\n",
        "\n",
        "  # O(n)\n",
        "  def inserir(self, valor: int):\n",
        "    if self.ultima_posicao == self.capacidade - 1:\n",
        "      print('Capacidade máxima atingida')\n",
        "      return\n",
        "\n",
        "    posicao = 0\n",
        "    for i in range(self.ultima_posicao + 1):\n",
        "      posicao = i\n",
        "      if self.valores[i] > valor:\n",
        "        break\n",
        "      if i == self.ultima_posicao:\n",
        "        posicao = i + 1\n",
        "\n",
        "    x = self.ultima_posicao\n",
        "    while x >= posicao:\n",
        "      self.valores[x + 1] = self.valores[x]\n",
        "      x -= 1\n",
        "\n",
        "    self.valores[posicao] = valor\n",
        "    self.ultima_posicao += 1\n",
        "\n",
        "    # O(n) - linear\n",
        "  def pesquisar_linear(self, valor):\n",
        "    for i in range(self.ultima_posicao + 1):\n",
        "      if self.valores[i] > valor:\n",
        "        return -1\n",
        "      if self.valores[i] == valor:\n",
        "        return i\n",
        "      if i == self.ultima_posicao:\n",
        "        return -1\n",
        "\n",
        "  def excluir(self, valor):\n",
        "    posicao = self.pesquisar(valor)\n",
        "    if posicao == -1:\n",
        "      return -1\n",
        "    else:\n",
        "      for i in range(posicao, self.ultima_posicao):\n",
        "        self.valores[i] = self.valores[i + 1]\n",
        "\n",
        "      self.ultima_posicao -= 1"
      ],
      "metadata": {
        "id": "HuFTdLeUnRFC"
      },
      "execution_count": null,
      "outputs": []
    },
    {
      "cell_type": "code",
      "source": [
        "vetor = VetorOrdenado(10)\n",
        "vetor.imprime()"
      ],
      "metadata": {
        "colab": {
          "base_uri": "https://localhost:8080/"
        },
        "id": "Q3W3-RlBpY6_",
        "outputId": "9add56fc-ed8d-4aa4-ba63-496496791149"
      },
      "execution_count": null,
      "outputs": [
        {
          "output_type": "stream",
          "name": "stdout",
          "text": [
            "Vetor vazio\n"
          ]
        }
      ]
    },
    {
      "cell_type": "code",
      "source": [
        "vetor.inserir(6)\n",
        "vetor.imprime()"
      ],
      "metadata": {
        "colab": {
          "base_uri": "https://localhost:8080/"
        },
        "id": "N9hul6R8pu4n",
        "outputId": "23e7fa9a-2a1c-41b0-f3ec-64ac392639bf"
      },
      "execution_count": null,
      "outputs": [
        {
          "output_type": "stream",
          "name": "stdout",
          "text": [
            "0 - 6\n"
          ]
        }
      ]
    },
    {
      "cell_type": "code",
      "source": [
        "vetor.inserir(4)\n",
        "vetor.imprime()"
      ],
      "metadata": {
        "colab": {
          "base_uri": "https://localhost:8080/"
        },
        "id": "GnllF_COp4qc",
        "outputId": "2256eceb-acc1-48c5-91f3-667127b70836"
      },
      "execution_count": null,
      "outputs": [
        {
          "output_type": "stream",
          "name": "stdout",
          "text": [
            "0 - 4\n",
            "1 - 6\n"
          ]
        }
      ]
    },
    {
      "cell_type": "code",
      "source": [
        "vetor.inserir(3)\n",
        "vetor.imprime()"
      ],
      "metadata": {
        "colab": {
          "base_uri": "https://localhost:8080/"
        },
        "id": "fF9ZdeMHp7I3",
        "outputId": "1d47870e-58a0-4672-840e-6517466e12da"
      },
      "execution_count": null,
      "outputs": [
        {
          "output_type": "stream",
          "name": "stdout",
          "text": [
            "0 - 3\n",
            "1 - 6\n"
          ]
        }
      ]
    },
    {
      "cell_type": "code",
      "source": [
        "vetor.inserir(5)\n",
        "vetor.imprime()"
      ],
      "metadata": {
        "colab": {
          "base_uri": "https://localhost:8080/"
        },
        "id": "gxrPA60VqELS",
        "outputId": "80365220-4678-4c1a-e513-d98b1ef3e9dd"
      },
      "execution_count": null,
      "outputs": [
        {
          "output_type": "stream",
          "name": "stdout",
          "text": [
            "0 - 3\n",
            "1 - 5\n",
            "2 - 6\n"
          ]
        }
      ]
    },
    {
      "cell_type": "code",
      "source": [
        "vetor.inserir(1)\n",
        "vetor.imprime()"
      ],
      "metadata": {
        "colab": {
          "base_uri": "https://localhost:8080/"
        },
        "id": "UzpXWLT2qrMR",
        "outputId": "77201277-1c93-459c-b0f4-bc6a92e09f1c"
      },
      "execution_count": null,
      "outputs": [
        {
          "output_type": "stream",
          "name": "stdout",
          "text": [
            "0 - 1\n",
            "1 - 3\n",
            "2 - 5\n",
            "3 - 6\n"
          ]
        }
      ]
    },
    {
      "cell_type": "code",
      "source": [
        "vetor.inserir(8)\n",
        "vetor.imprime()"
      ],
      "metadata": {
        "colab": {
          "base_uri": "https://localhost:8080/"
        },
        "id": "w5vNyw9Sqt9x",
        "outputId": "7a4e69c6-8959-45d8-df8a-c787fc43cc29"
      },
      "execution_count": null,
      "outputs": [
        {
          "output_type": "stream",
          "name": "stdout",
          "text": [
            "0 - 1\n",
            "1 - 3\n",
            "2 - 5\n",
            "3 - 6\n",
            "4 - 8\n"
          ]
        }
      ]
    },
    {
      "cell_type": "code",
      "source": [
        "vetor.pesquisar_linear(8)"
      ],
      "metadata": {
        "colab": {
          "base_uri": "https://localhost:8080/"
        },
        "id": "lRQs8OqXtRQY",
        "outputId": "1dee2d71-1912-4be5-ccef-bbe47903ba6b"
      },
      "execution_count": null,
      "outputs": [
        {
          "output_type": "execute_result",
          "data": {
            "text/plain": [
              "4"
            ]
          },
          "metadata": {},
          "execution_count": 101
        }
      ]
    },
    {
      "cell_type": "code",
      "source": [
        "vetor.pesquisar_linear(2)"
      ],
      "metadata": {
        "colab": {
          "base_uri": "https://localhost:8080/"
        },
        "id": "HNI6z7xbtvZt",
        "outputId": "e3ded24a-ed9c-4211-ac25-d3fffa5b83e4"
      },
      "execution_count": null,
      "outputs": [
        {
          "output_type": "execute_result",
          "data": {
            "text/plain": [
              "-1"
            ]
          },
          "metadata": {},
          "execution_count": 102
        }
      ]
    },
    {
      "cell_type": "code",
      "source": [
        "vetor.pesquisar_linear(9)"
      ],
      "metadata": {
        "colab": {
          "base_uri": "https://localhost:8080/"
        },
        "id": "EYRZ6vgat1S0",
        "outputId": "ffbd7721-a190-4dc3-8ab9-8cef2fbc4af9"
      },
      "execution_count": null,
      "outputs": [
        {
          "output_type": "execute_result",
          "data": {
            "text/plain": [
              "-1"
            ]
          },
          "metadata": {},
          "execution_count": 103
        }
      ]
    },
    {
      "cell_type": "code",
      "source": [
        "vetor.imprime()"
      ],
      "metadata": {
        "colab": {
          "base_uri": "https://localhost:8080/"
        },
        "id": "eJtlHJGswIKw",
        "outputId": "075cceeb-2caa-4f9c-b490-0d9a2cbedb48"
      },
      "execution_count": null,
      "outputs": [
        {
          "output_type": "stream",
          "name": "stdout",
          "text": [
            "0 - 1\n",
            "1 - 3\n",
            "2 - 5\n",
            "3 - 6\n",
            "4 - 8\n"
          ]
        }
      ]
    },
    {
      "cell_type": "code",
      "source": [
        "vetor.excluir(5)\n",
        "vetor.imprime()"
      ],
      "metadata": {
        "colab": {
          "base_uri": "https://localhost:8080/"
        },
        "id": "LWvNvAdgwLPH",
        "outputId": "436ea62c-496f-49f7-d3b1-ae370ea0a1e2"
      },
      "execution_count": null,
      "outputs": [
        {
          "output_type": "stream",
          "name": "stdout",
          "text": [
            "0 - 1\n",
            "1 - 3\n",
            "2 - 6\n",
            "3 - 8\n"
          ]
        }
      ]
    },
    {
      "cell_type": "code",
      "source": [
        "vetor.excluir(1)\n",
        "vetor.imprime()"
      ],
      "metadata": {
        "colab": {
          "base_uri": "https://localhost:8080/"
        },
        "id": "MHUCYETCwT9-",
        "outputId": "ceef1a52-40fe-43ea-af12-8bf7a3f65f33"
      },
      "execution_count": null,
      "outputs": [
        {
          "output_type": "stream",
          "name": "stdout",
          "text": [
            "0 - 3\n",
            "1 - 6\n",
            "2 - 8\n"
          ]
        }
      ]
    },
    {
      "cell_type": "code",
      "source": [
        "vetor.excluir(8)\n",
        "vetor.imprime()"
      ],
      "metadata": {
        "colab": {
          "base_uri": "https://localhost:8080/"
        },
        "id": "P4U-xkivwWY9",
        "outputId": "9622a69e-8933-4289-cc57-dd7df0bfd7d7"
      },
      "execution_count": null,
      "outputs": [
        {
          "output_type": "stream",
          "name": "stdout",
          "text": [
            "0 - 3\n",
            "1 - 6\n"
          ]
        }
      ]
    },
    {
      "cell_type": "code",
      "source": [
        "vetor.excluir(9)"
      ],
      "metadata": {
        "colab": {
          "base_uri": "https://localhost:8080/"
        },
        "id": "H95b4ys3wZsg",
        "outputId": "b21cda73-ab1f-417e-f383-a9104d298571"
      },
      "execution_count": null,
      "outputs": [
        {
          "output_type": "execute_result",
          "data": {
            "text/plain": [
              "-1"
            ]
          },
          "metadata": {},
          "execution_count": 109
        }
      ]
    }
  ]
}